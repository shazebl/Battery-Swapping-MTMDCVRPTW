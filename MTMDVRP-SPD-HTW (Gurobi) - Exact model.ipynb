{
 "cells": [
  {
   "cell_type": "code",
   "execution_count": 1,
   "metadata": {},
   "outputs": [],
   "source": [
    "# Import required libraries\n",
    "\n",
    "import pandas as pd\n",
    "import numpy as np\n",
    "import random\n",
    "import gurobipy as gp\n",
    "from gurobipy import GRB\n",
    "import json\n",
    "\n",
    "import time\n",
    "\n",
    "# Record the start time\n",
    "start_time = time.time()"
   ]
  },
  {
   "cell_type": "code",
   "execution_count": 2,
   "metadata": {},
   "outputs": [],
   "source": [
    "# Inputs\n",
    "\n",
    "no_of_customers = 7 # Total number of customers\n",
    "no_of_depots = 2 # Total number of depots\n",
    "total_vehicles = 4 # Total number of vehicles\n",
    "trips_per_vehicle = 3 # Maximum number of trips per vehicle\n",
    "D_V = {8:[0,1], 9:[2,3]} # Depot to vehicle mapping\n",
    "\n",
    "# Vehicles\n",
    "K = []\n",
    "for i, j in D_V.items():\n",
    "    K = K + j\n",
    "    \n",
    "time_window = [60,240] # Time window at which customers are served\n",
    "H = 300 # Time horizon\n",
    "s = 5 # service time at customer\n",
    "service_at_depot = 5 # service time at depot"
   ]
  },
  {
   "cell_type": "code",
   "execution_count": 3,
   "metadata": {},
   "outputs": [],
   "source": [
    "C = list(range(1, no_of_customers + 1))\n",
    "D = list(range(len(C) + 1, len(C) + no_of_depots + 1, 1))\n",
    "W = list(range(1, trips_per_vehicle))\n",
    "Q = 25"
   ]
  },
  {
   "cell_type": "code",
   "execution_count": 4,
   "metadata": {
    "execution": {
     "iopub.execute_input": "2023-08-02T10:45:42.763919Z",
     "iopub.status.busy": "2023-08-02T10:45:42.763239Z",
     "iopub.status.idle": "2023-08-02T10:45:42.775411Z",
     "shell.execute_reply": "2023-08-02T10:45:42.774514Z",
     "shell.execute_reply.started": "2023-08-02T10:45:42.763885Z"
    }
   },
   "outputs": [],
   "source": [
    "# Teminologies\n",
    "\n",
    "N = C + D # Union of customers and depots\n",
    "M = 10000"
   ]
  },
  {
   "cell_type": "markdown",
   "metadata": {},
   "source": [
    "# Data"
   ]
  },
  {
   "cell_type": "code",
   "execution_count": 5,
   "metadata": {},
   "outputs": [
    {
     "name": "stdout",
     "output_type": "stream",
     "text": [
      "[5, 5, 4, 4, 3, 3, 4, 0, 0]\n"
     ]
    }
   ],
   "source": [
    "# Pickup for customers\n",
    "\n",
    "with open('p.json', 'r') as f:\n",
    "    p = json.load(f)\n",
    "\n",
    "print(p)"
   ]
  },
  {
   "cell_type": "raw",
   "metadata": {},
   "source": [
    "# Pickup for customers\n",
    "\n",
    "p = [random.randint(3,6) for _ in range(no_of_customers)]\n",
    "temp = [0] * no_of_depots\n",
    "p.extend(temp)\n",
    "print(p)\n",
    "\n",
    "with open('p.json', 'w') as f:\n",
    "    json.dump(p, f)"
   ]
  },
  {
   "cell_type": "code",
   "execution_count": 6,
   "metadata": {},
   "outputs": [
    {
     "name": "stdout",
     "output_type": "stream",
     "text": [
      "[5, 8, 9, 7, 5, 8, 8, 0, 0]\n"
     ]
    }
   ],
   "source": [
    "# Delivery for customers\n",
    "\n",
    "with open('q.json', 'r') as f:\n",
    "    q = json.load(f)\n",
    "    \n",
    "print(q)"
   ]
  },
  {
   "cell_type": "raw",
   "metadata": {},
   "source": [
    "# Delivery for customers\n",
    "\n",
    "q = [random.randint(5,10) for _ in range(no_of_customers)]\n",
    "temp = [0] * no_of_depots\n",
    "q.extend(temp)\n",
    "print(q)\n",
    "\n",
    "with open('q.json', 'w') as f:\n",
    "    json.dump(q, f)"
   ]
  },
  {
   "cell_type": "code",
   "execution_count": 7,
   "metadata": {},
   "outputs": [
    {
     "name": "stdout",
     "output_type": "stream",
     "text": [
      "{'Cust_1': [20, 20], 'Cust_2': [1, 13], 'Cust_3': [10, 7], 'Cust_4': [20, 23], 'Cust_5': [1, 20], 'Cust_6': [3, 14], 'Cust_7': [4, 21]}\n",
      "{'Depot_1': [6, 10], 'Depot_2': [23, 0]}\n"
     ]
    }
   ],
   "source": [
    "# Retrieve the dictionary from JSON\n",
    "\n",
    "with open('customers.json', 'r') as json_file:\n",
    "    customers = json.load(json_file)\n",
    "    \n",
    "print(customers)\n",
    "    \n",
    "# Retrieve the dictionary from JSON\n",
    "\n",
    "with open('depots.json', 'r') as json_file:\n",
    "    depots = json.load(json_file)\n",
    "    \n",
    "print(depots)"
   ]
  },
  {
   "cell_type": "code",
   "execution_count": 8,
   "metadata": {},
   "outputs": [
    {
     "name": "stdout",
     "output_type": "stream",
     "text": [
      "[[ 0 26 23  3 19 23 17 24 23]\n",
      " [26  0 15 29  7  3 11  8 35]\n",
      " [23 15  0 26 22 14 20  7 20]\n",
      " [ 3 29 26  0 22 26 18 27 26]\n",
      " [19  7 22 22  0  8  4 15 42]\n",
      " [23  3 14 26  8  0  8  7 34]\n",
      " [17 11 20 18  4  8  0 13 40]\n",
      " [24  8  7 27 15  7 13  0 27]\n",
      " [23 35 20 26 42 34 40 27  0]]\n"
     ]
    }
   ],
   "source": [
    "# Retrieve the matrix from JSON\n",
    "with open('d.json', 'r') as json_file:\n",
    "    d = json.load(json_file)\n",
    "\n",
    "# Convert the nested list back to a NumPy array\n",
    "d = np.array(d)\n",
    "\n",
    "print(d)"
   ]
  },
  {
   "cell_type": "code",
   "execution_count": 9,
   "metadata": {},
   "outputs": [
    {
     "name": "stdout",
     "output_type": "stream",
     "text": [
      "[110, 93, 124, 137, 85, 101, 164]\n",
      "[240, 100, 225, 238, 164, 147, 221]\n"
     ]
    }
   ],
   "source": [
    "with open('ear.json', 'r') as f:\n",
    "    ear = json.load(f)\n",
    "    \n",
    "with open('lat.json', 'r') as f:\n",
    "    lat = json.load(f)\n",
    "    \n",
    "print(ear)\n",
    "print(lat)"
   ]
  },
  {
   "cell_type": "raw",
   "metadata": {},
   "source": [
    "# Pickup for customers\n",
    "\n",
    "p = [random.randint(3,6) for _ in range(no_of_customers)]\n",
    "temp = [0] * no_of_depots\n",
    "p.extend(temp)\n",
    "print(p)\n",
    "\n",
    "with open('p.json', 'w') as f:\n",
    "    json.dump(p, f)"
   ]
  },
  {
   "cell_type": "raw",
   "metadata": {},
   "source": [
    "# Delivery for customers\n",
    "\n",
    "q = [random.randint(5,10) for _ in range(no_of_customers)]\n",
    "temp = [0] * no_of_depots\n",
    "q.extend(temp)\n",
    "print(q)\n",
    "\n",
    "with open('q.json', 'w') as f:\n",
    "    json.dump(q, f)"
   ]
  },
  {
   "cell_type": "raw",
   "metadata": {},
   "source": [
    "import random\n",
    "\n",
    "def generate_random_coordinates(num_points, x_range=(0, 25), y_range=(0, 25)):\n",
    "    return [(random.randint(x_range[0], x_range[1]),\n",
    "             random.randint(y_range[0], y_range[1])) for _ in range(num_points)]\n",
    "\n",
    "# Define the number of customers and depots\n",
    "num_customers = no_of_customers\n",
    "num_depots = no_of_depots\n",
    "\n",
    "# Generate random coordinates for customers and depots\n",
    "customer_coordinates = generate_random_coordinates(num_customers)\n",
    "depot_coordinates = generate_random_coordinates(num_depots)\n",
    "\n",
    "# Create dictionaries for customers and depots with their coordinates\n",
    "customers = {f'Cust_{i+1}': coord for i, coord in enumerate(customer_coordinates)}\n",
    "depots = {f'Depot_{i+1}': coord for i, coord in enumerate(depot_coordinates)}\n",
    "\n",
    "# Print the dictionaries\n",
    "print(\"Customers:\")\n",
    "print(customers)\n",
    "\n",
    "print(\"\\nDepots:\")\n",
    "print(depots)"
   ]
  },
  {
   "cell_type": "raw",
   "metadata": {},
   "source": [
    "# Store the dictionary as JSON\n",
    "\n",
    "with open('customers.json', 'w') as json_file:\n",
    "    json.dump(customers, json_file)\n",
    "    \n",
    "with open('depots.json', 'w') as json_file:\n",
    "    json.dump(depots, json_file)"
   ]
  },
  {
   "cell_type": "raw",
   "metadata": {},
   "source": [
    "# Function to calculate Manhattan distance (travel time) between two coordinates\n",
    "def calculate_manhattan_distance(coord1, coord2):\n",
    "    x1, y1 = coord1\n",
    "    x2, y2 = coord2\n",
    "    return abs(x2 - x1) + abs(y2 - y1)\n",
    "\n",
    "# Function to generate random time windows for customers\n",
    "def generate_random_time_windows(num_customers, min_earliest_time, max_latest_time):\n",
    "    return [(random.randint(min_earliest_time, max_latest_time),\n",
    "             random.randint(min_earliest_time, max_latest_time))\n",
    "            for _ in range(num_customers)]\n",
    "\n",
    "# Define the time window range (in minutes)\n",
    "min_earliest_time = time_window[0]\n",
    "max_latest_time = time_window[1]\n",
    "\n",
    "# Create a 2D array to store travel times\n",
    "num_customers = len(customers)\n",
    "num_depots = len(depots)\n",
    "num_locations = num_customers + num_depots\n",
    "\n",
    "# Assign sequential numbers to customers and depots\n",
    "customer_numbers = {customer: i + 1 for i, customer in enumerate(customers.keys())}\n",
    "depot_numbers = {depot: num_customers + i + 1 for i, depot in enumerate(depots.keys())}\n",
    "all_locations = {**customer_numbers, **depot_numbers}\n",
    "\n",
    "d = np.zeros((num_locations, num_locations), dtype=int)\n",
    "\n",
    "# Generate random time windows for customers\n",
    "customer_time_windows = generate_random_time_windows(num_customers, min_earliest_time, max_latest_time)\n",
    "customer_time_windows = [(min(e, l), max(e, l)) for e, l in customer_time_windows]\n",
    "\n",
    "# Calculate travel time between customers and depots\n",
    "for i, location_i in enumerate(all_locations):\n",
    "    for j, location_j in enumerate(all_locations):\n",
    "        coord_i = customers[location_i] if location_i in customers else depots[location_i]\n",
    "        coord_j = customers[location_j] if location_j in customers else depots[location_j]\n",
    "        d[i, j] = calculate_manhattan_distance(coord_i, coord_j)\n",
    "        \n",
    "print(d)\n",
    "print(customer_time_windows)"
   ]
  },
  {
   "cell_type": "raw",
   "metadata": {},
   "source": [
    "# Convert the matrix to a nested list for JSON serialization\n",
    "d = d.tolist()\n",
    "\n",
    "# Store the matrix as JSON\n",
    "with open('d.json', 'w') as json_file:\n",
    "    json.dump(d, json_file)\n",
    "\n",
    "# Retrieve the matrix from JSON\n",
    "# with open('matrix.json', 'r') as json_file:\n",
    "#     loaded_matrix_list = json.load(json_file)\n",
    "\n",
    "# Convert the nested list back to a NumPy array\n",
    "# loaded_matrix = np.array(loaded_matrix_list)"
   ]
  },
  {
   "cell_type": "raw",
   "metadata": {},
   "source": [
    "i = 0\n",
    "j = 1\n",
    "ear = []\n",
    "lat = []\n",
    "\n",
    "for k in customer_time_windows:\n",
    "    ear.append(k[i])\n",
    "    lat.append(k[j])\n",
    "\n",
    "print(ear)\n",
    "print(lat)"
   ]
  },
  {
   "cell_type": "raw",
   "metadata": {},
   "source": [
    "with open('ear.json', 'w') as f:\n",
    "    json.dump(ear, f)\n",
    "    \n",
    "with open('lat.json', 'w') as f:\n",
    "    json.dump(lat, f)"
   ]
  },
  {
   "cell_type": "markdown",
   "metadata": {},
   "source": [
    "# Model"
   ]
  },
  {
   "cell_type": "code",
   "execution_count": 10,
   "metadata": {
    "execution": {
     "iopub.execute_input": "2023-08-02T10:45:42.941092Z",
     "iopub.status.busy": "2023-08-02T10:45:42.940017Z",
     "iopub.status.idle": "2023-08-02T10:45:42.945377Z",
     "shell.execute_reply": "2023-08-02T10:45:42.944077Z",
     "shell.execute_reply.started": "2023-08-02T10:45:42.941035Z"
    }
   },
   "outputs": [
    {
     "name": "stdout",
     "output_type": "stream",
     "text": [
      "Set parameter Username\n",
      "Academic license - for non-commercial use only - expires 2024-04-29\n"
     ]
    }
   ],
   "source": [
    "# Setting up the problem:\n",
    "\n",
    "m = gp.Model(\"VRP\")"
   ]
  },
  {
   "cell_type": "code",
   "execution_count": 11,
   "metadata": {
    "execution": {
     "iopub.execute_input": "2023-08-02T10:45:42.947893Z",
     "iopub.status.busy": "2023-08-02T10:45:42.947246Z",
     "iopub.status.idle": "2023-08-02T10:45:42.972656Z",
     "shell.execute_reply": "2023-08-02T10:45:42.971773Z",
     "shell.execute_reply.started": "2023-08-02T10:45:42.947852Z"
    }
   },
   "outputs": [],
   "source": [
    "# Decision variables:\n",
    "\n",
    "x = m.addVars(N, N, K, W, lb=0.0, vtype=GRB.BINARY, name = \"x\")\n",
    "y = m.addVars(K, W, lb=0.0, vtype=GRB.BINARY, name = \"y\")\n",
    "\n",
    "t = m.addVars(C, K, W, lb = 0.0, vtype=GRB.INTEGER, name = \"Arrival time at customer\")\n",
    "ts = m.addVars(K, W, lb = 0.0, vtype=GRB.INTEGER, name = \"Depot start time\")\n",
    "te = m.addVars(K, W, lb = 0.0, vtype=GRB.INTEGER, name = \"Depot end time\")\n",
    "l = m.addVars(K, W, lb = 0.0, vtype=GRB.INTEGER, name = \"Load at depot\")\n",
    "L = m.addVars(N, K, W, lb = 0.0, vtype=GRB.INTEGER, name = \"Load at customer\")"
   ]
  },
  {
   "cell_type": "code",
   "execution_count": 12,
   "metadata": {
    "execution": {
     "iopub.execute_input": "2023-08-02T10:45:43.023329Z",
     "iopub.status.busy": "2023-08-02T10:45:43.022969Z",
     "iopub.status.idle": "2023-08-02T10:45:43.032340Z",
     "shell.execute_reply": "2023-08-02T10:45:43.031185Z",
     "shell.execute_reply.started": "2023-08-02T10:45:43.023299Z"
    }
   },
   "outputs": [],
   "source": [
    "# Constraints\n",
    "\n",
    "# 1) Each customer is served exactly once\n",
    "\n",
    "for i in C:\n",
    "    m.addConstr(gp.quicksum(x[(i,j,k,w)] for j in N for k in K for w in W) == 1)"
   ]
  },
  {
   "cell_type": "code",
   "execution_count": 13,
   "metadata": {
    "execution": {
     "iopub.execute_input": "2023-08-02T10:45:43.036300Z",
     "iopub.status.busy": "2023-08-02T10:45:43.035755Z",
     "iopub.status.idle": "2023-08-02T10:45:43.052226Z",
     "shell.execute_reply": "2023-08-02T10:45:43.051194Z",
     "shell.execute_reply.started": "2023-08-02T10:45:43.036266Z"
    }
   },
   "outputs": [],
   "source": [
    "# 2) Each vehicle can have only one depot\n",
    "\n",
    "for k in K:\n",
    "    for w in W:\n",
    "        m.addConstr(gp.quicksum(x[(i,d,k,w)] for i in C for d in D) == y[(k,w)])\n",
    "        \n",
    "for k in K:\n",
    "    for w in W:\n",
    "        m.addConstr(gp.quicksum(x[(d,i,k,w)] for d in D for i in C) == y[(k,w)])"
   ]
  },
  {
   "cell_type": "code",
   "execution_count": 14,
   "metadata": {
    "execution": {
     "iopub.execute_input": "2023-08-02T10:45:43.054882Z",
     "iopub.status.busy": "2023-08-02T10:45:43.053831Z",
     "iopub.status.idle": "2023-08-02T10:45:43.066388Z",
     "shell.execute_reply": "2023-08-02T10:45:43.065410Z",
     "shell.execute_reply.started": "2023-08-02T10:45:43.054741Z"
    }
   },
   "outputs": [],
   "source": [
    "# 3) A vehcile cannot travel from depot to depot\n",
    "\n",
    "for k in K:\n",
    "    for w in W:\n",
    "        m.addConstr(gp.quicksum(x[(i,j,k,w)] for i in D for j in D) == 0)\n",
    "        \n",
    "# A vehicle cannot travel from i to i \n",
    "\n",
    "for k in K:\n",
    "    for w in W:\n",
    "        m.addConstr(gp.quicksum(x[(i,i,k,w)] for i in C) == 0)"
   ]
  },
  {
   "cell_type": "code",
   "execution_count": 15,
   "metadata": {
    "execution": {
     "iopub.execute_input": "2023-08-02T10:45:43.068915Z",
     "iopub.status.busy": "2023-08-02T10:45:43.068199Z",
     "iopub.status.idle": "2023-08-02T10:45:43.084792Z",
     "shell.execute_reply": "2023-08-02T10:45:43.083614Z",
     "shell.execute_reply.started": "2023-08-02T10:45:43.068870Z"
    }
   },
   "outputs": [],
   "source": [
    "# 4) Total customers served by a vehicle must be less than the number of customers available\n",
    "\n",
    "for k in K:\n",
    "    for w in W:\n",
    "        m.addConstr(gp.quicksum(x[(i,j,k,w)] for i in N for j in N) <= ((len(C)+1) * y[(k,w)]))"
   ]
  },
  {
   "cell_type": "code",
   "execution_count": 16,
   "metadata": {
    "execution": {
     "iopub.execute_input": "2023-08-02T10:45:43.086905Z",
     "iopub.status.busy": "2023-08-02T10:45:43.085805Z",
     "iopub.status.idle": "2023-08-02T10:45:43.097483Z",
     "shell.execute_reply": "2023-08-02T10:45:43.096332Z",
     "shell.execute_reply.started": "2023-08-02T10:45:43.086870Z"
    }
   },
   "outputs": [],
   "source": [
    "# 5) Subsequent trips can be operated only if current trip is operated\n",
    "\n",
    "for k in K:\n",
    "    for w in W:\n",
    "        if(w < (trips_per_vehicle - 1)):\n",
    "            m.addConstr(y[(k,w+1)] <= y[(k,w)])"
   ]
  },
  {
   "cell_type": "code",
   "execution_count": 17,
   "metadata": {
    "execution": {
     "iopub.execute_input": "2023-08-02T10:45:43.098988Z",
     "iopub.status.busy": "2023-08-02T10:45:43.098562Z",
     "iopub.status.idle": "2023-08-02T10:45:43.118128Z",
     "shell.execute_reply": "2023-08-02T10:45:43.116916Z",
     "shell.execute_reply.started": "2023-08-02T10:45:43.098953Z"
    }
   },
   "outputs": [],
   "source": [
    "# 6) Flow conservation constraint\n",
    "\n",
    "for j in C:\n",
    "    for k in K:\n",
    "        for w in W:\n",
    "            m.addConstr(gp.quicksum(x[i,j,k,w] for i in N) == gp.quicksum(x[j,i,k,w] for i in N))"
   ]
  },
  {
   "cell_type": "code",
   "execution_count": 18,
   "metadata": {
    "execution": {
     "iopub.execute_input": "2023-08-02T10:45:43.120512Z",
     "iopub.status.busy": "2023-08-02T10:45:43.119757Z",
     "iopub.status.idle": "2023-08-02T10:45:43.140065Z",
     "shell.execute_reply": "2023-08-02T10:45:43.139203Z",
     "shell.execute_reply.started": "2023-08-02T10:45:43.120468Z"
    }
   },
   "outputs": [],
   "source": [
    "# 7) Load carried from depot should be equal to the demand of customers served by that vehicle\n",
    "\n",
    "for k in K:\n",
    "    for w in W:\n",
    "        m.addConstr(gp.quicksum(x[(i,j,k,w)] * q[j-1] for i in N for j in N) == l[(k,w)])"
   ]
  },
  {
   "cell_type": "code",
   "execution_count": 19,
   "metadata": {
    "execution": {
     "iopub.execute_input": "2023-08-02T10:45:43.145558Z",
     "iopub.status.busy": "2023-08-02T10:45:43.144974Z",
     "iopub.status.idle": "2023-08-02T10:45:43.151180Z",
     "shell.execute_reply": "2023-08-02T10:45:43.150233Z",
     "shell.execute_reply.started": "2023-08-02T10:45:43.145522Z"
    }
   },
   "outputs": [],
   "source": [
    "# 8) Load carried by vehicle from depot should be less than vehicle capacity\n",
    "\n",
    "for k in K:\n",
    "    for w in W:\n",
    "        m.addConstr(l[(k,w)] <= (Q * y[(k,w)]))"
   ]
  },
  {
   "cell_type": "code",
   "execution_count": 20,
   "metadata": {
    "execution": {
     "iopub.execute_input": "2023-08-02T10:45:43.153417Z",
     "iopub.status.busy": "2023-08-02T10:45:43.152654Z",
     "iopub.status.idle": "2023-08-02T10:45:43.167352Z",
     "shell.execute_reply": "2023-08-02T10:45:43.166072Z",
     "shell.execute_reply.started": "2023-08-02T10:45:43.153382Z"
    }
   },
   "outputs": [],
   "source": [
    "# 9) Depot start time constraint\n",
    "\n",
    "for i in D:\n",
    "    for k in K:\n",
    "        for w in W:\n",
    "            m.addConstr(ts[(k,w)] >= (s - M * (1 - y[(k,w)])))"
   ]
  },
  {
   "cell_type": "code",
   "execution_count": 21,
   "metadata": {
    "execution": {
     "iopub.execute_input": "2023-08-02T10:45:43.170223Z",
     "iopub.status.busy": "2023-08-02T10:45:43.168961Z",
     "iopub.status.idle": "2023-08-02T10:45:43.180745Z",
     "shell.execute_reply": "2023-08-02T10:45:43.179683Z",
     "shell.execute_reply.started": "2023-08-02T10:45:43.170137Z"
    }
   },
   "outputs": [],
   "source": [
    "# 10) Depot start time for consequent trips\n",
    "\n",
    "for i in D:\n",
    "    for k in K:\n",
    "        for w in W:\n",
    "            if w < (trips_per_vehicle - 1):\n",
    "                m.addConstr(ts[(k,w+1)] >= (te[(k,w)] + s - M * (1 - y[(k,w+1)])))"
   ]
  },
  {
   "cell_type": "code",
   "execution_count": 22,
   "metadata": {
    "execution": {
     "iopub.execute_input": "2023-08-02T10:45:43.183541Z",
     "iopub.status.busy": "2023-08-02T10:45:43.182174Z",
     "iopub.status.idle": "2023-08-02T10:45:43.207279Z",
     "shell.execute_reply": "2023-08-02T10:45:43.206190Z",
     "shell.execute_reply.started": "2023-08-02T10:45:43.183500Z"
    }
   },
   "outputs": [],
   "source": [
    "# 11) Time at which you reach a customer should be less than latest time\n",
    "\n",
    "for j in C:\n",
    "    for k in K:\n",
    "        for w in W:\n",
    "            m.addConstr(gp.quicksum(x[(i, j, k, w)] * lat[j-1] for i in N) >= t[(j, k, w)])"
   ]
  },
  {
   "cell_type": "code",
   "execution_count": 23,
   "metadata": {
    "execution": {
     "iopub.execute_input": "2023-08-02T10:45:43.209101Z",
     "iopub.status.busy": "2023-08-02T10:45:43.208671Z",
     "iopub.status.idle": "2023-08-02T10:45:43.333736Z",
     "shell.execute_reply": "2023-08-02T10:45:43.332560Z",
     "shell.execute_reply.started": "2023-08-02T10:45:43.209062Z"
    }
   },
   "outputs": [],
   "source": [
    "# 12) Time at which you reach customer should be more than earliest time\n",
    "\n",
    "for i in C:\n",
    "    for j in C:\n",
    "        for k in K:\n",
    "            for w in W:\n",
    "                m.addConstr(t[(j,k,w)] >= (t[(i,k,w)] + s + d[i-1][j-1] - M * (1 - x[i,j,k,w])))\n",
    "                \n",
    "for i in C:\n",
    "    for j in C:\n",
    "        for k in K:\n",
    "            for w in W:\n",
    "                m.addConstr(t[(j,k,w)] >= (ear[i-1] + s + d[i-1][j-1] - M * (1 - x[i,j,k,w])))"
   ]
  },
  {
   "cell_type": "code",
   "execution_count": 24,
   "metadata": {
    "execution": {
     "iopub.execute_input": "2023-08-02T10:45:43.336195Z",
     "iopub.status.busy": "2023-08-02T10:45:43.335410Z",
     "iopub.status.idle": "2023-08-02T10:45:43.358575Z",
     "shell.execute_reply": "2023-08-02T10:45:43.357468Z",
     "shell.execute_reply.started": "2023-08-02T10:45:43.336129Z"
    }
   },
   "outputs": [],
   "source": [
    "# 13) Time at which you reach customer should be more than start time at depot\n",
    "\n",
    "for i in D:\n",
    "    for j in C:\n",
    "        for k in K:\n",
    "            for w in W:\n",
    "                m.addConstr(t[(j,k,w)] >= (ts[(k,w)] + d[i-1][j-1] - M * (1 - x[i,j,k,w])))"
   ]
  },
  {
   "cell_type": "code",
   "execution_count": 25,
   "metadata": {
    "execution": {
     "iopub.execute_input": "2023-08-02T10:45:43.360210Z",
     "iopub.status.busy": "2023-08-02T10:45:43.359757Z",
     "iopub.status.idle": "2023-08-02T10:45:43.402980Z",
     "shell.execute_reply": "2023-08-02T10:45:43.402053Z",
     "shell.execute_reply.started": "2023-08-02T10:45:43.360145Z"
    }
   },
   "outputs": [],
   "source": [
    "# 14) Time at which you reach the depot\n",
    "\n",
    "for i in C:\n",
    "    for j in D:\n",
    "        for k in K:\n",
    "            for w in W:\n",
    "                m.addConstr(te[(k,w)] >= (t[i,k,w] + s + d[i-1][j-1] - M * (1 - x[i,j,k,w])))\n",
    "\n",
    "for i in C:\n",
    "    for j in D:\n",
    "        for k in K:\n",
    "            for w in W:\n",
    "                m.addConstr(te[(k,w)] >= (ear[i-1] + s + d[i-1][j-1] - M * (1 - x[i,j,k,w])))"
   ]
  },
  {
   "cell_type": "code",
   "execution_count": 26,
   "metadata": {
    "execution": {
     "iopub.execute_input": "2023-08-02T10:45:43.404932Z",
     "iopub.status.busy": "2023-08-02T10:45:43.404366Z",
     "iopub.status.idle": "2023-08-02T10:45:43.409483Z",
     "shell.execute_reply": "2023-08-02T10:45:43.408566Z",
     "shell.execute_reply.started": "2023-08-02T10:45:43.404899Z"
    }
   },
   "outputs": [],
   "source": [
    "# 15) Time horizon\n",
    "\n",
    "for k in K:\n",
    "    for w in W:\n",
    "        m.addConstr(te[(k,w)] <= H)\n",
    "        \n",
    "\n",
    "for k in K:\n",
    "    for w in W:\n",
    "        m.addConstr(ts[(k,w)] <= H)"
   ]
  },
  {
   "cell_type": "code",
   "execution_count": 27,
   "metadata": {
    "execution": {
     "iopub.execute_input": "2023-08-02T10:45:43.411207Z",
     "iopub.status.busy": "2023-08-02T10:45:43.410833Z",
     "iopub.status.idle": "2023-08-02T10:45:43.424480Z",
     "shell.execute_reply": "2023-08-02T10:45:43.423423Z",
     "shell.execute_reply.started": "2023-08-02T10:45:43.411167Z"
    }
   },
   "outputs": [],
   "source": [
    "# 16) Vehicle depot mapping\n",
    "\n",
    "for i in D:\n",
    "    for k in K:\n",
    "        if k not in D_V[i]:\n",
    "            for w in W:\n",
    "                m.addConstr(gp.quicksum(x[(i,j,k,w)] for j in C) == 0)\n",
    "                \n",
    "for i in D:\n",
    "    for k in K:\n",
    "        if k not in D_V[i]:\n",
    "            for w in W:\n",
    "                m.addConstr(gp.quicksum(x[(j,i,k,w)] for j in C) == 0)"
   ]
  },
  {
   "cell_type": "code",
   "execution_count": 28,
   "metadata": {
    "execution": {
     "iopub.execute_input": "2023-08-02T10:45:43.426355Z",
     "iopub.status.busy": "2023-08-02T10:45:43.425980Z",
     "iopub.status.idle": "2023-08-02T10:45:43.452119Z",
     "shell.execute_reply": "2023-08-02T10:45:43.451209Z",
     "shell.execute_reply.started": "2023-08-02T10:45:43.426323Z"
    }
   },
   "outputs": [],
   "source": [
    "# 17) Arrival time\n",
    "\n",
    "for j in C:\n",
    "    for k in K:\n",
    "        for w in W:\n",
    "            m.addConstr(t[(j,k,w)] >= gp.quicksum(ear[j-1] * x[i,j,k,w] for i in N))"
   ]
  },
  {
   "cell_type": "code",
   "execution_count": 29,
   "metadata": {
    "execution": {
     "iopub.execute_input": "2023-08-02T10:24:37.354088Z",
     "iopub.status.busy": "2023-08-02T10:24:37.352873Z",
     "iopub.status.idle": "2023-08-02T10:24:37.364338Z",
     "shell.execute_reply": "2023-08-02T10:24:37.363379Z",
     "shell.execute_reply.started": "2023-08-02T10:24:37.354042Z"
    }
   },
   "outputs": [],
   "source": [
    "# 18) Load carried at any customer node should be less than the capacity of vehicle\n",
    "\n",
    "for i in N:\n",
    "    for k in K:\n",
    "        for w in W:\n",
    "            m.addConstr(L[(i,k,w)] <= Q)"
   ]
  },
  {
   "cell_type": "code",
   "execution_count": 30,
   "metadata": {
    "execution": {
     "iopub.execute_input": "2023-08-02T10:24:37.366393Z",
     "iopub.status.busy": "2023-08-02T10:24:37.365780Z",
     "iopub.status.idle": "2023-08-02T10:24:37.417547Z",
     "shell.execute_reply": "2023-08-02T10:24:37.415897Z",
     "shell.execute_reply.started": "2023-08-02T10:24:37.366356Z"
    }
   },
   "outputs": [],
   "source": [
    "# 19) Load carreid from any customer node should be equal to previous node load along with delivery and pickup at current node\n",
    "\n",
    "for i in N:\n",
    "    for j in C:\n",
    "        for k in K:\n",
    "            for w in W:\n",
    "                m.addConstr(L[(j,k,w)] >= (L[(i,k,w)] + p[j-1] - q[j-1] - M * (1 - x[i,j,k,w])))"
   ]
  },
  {
   "cell_type": "code",
   "execution_count": 31,
   "metadata": {
    "execution": {
     "iopub.execute_input": "2023-08-02T10:24:37.419520Z",
     "iopub.status.busy": "2023-08-02T10:24:37.419095Z",
     "iopub.status.idle": "2023-08-02T10:24:37.427345Z",
     "shell.execute_reply": "2023-08-02T10:24:37.426388Z",
     "shell.execute_reply.started": "2023-08-02T10:24:37.419487Z"
    }
   },
   "outputs": [],
   "source": [
    "# 20) Load at depot constraint\n",
    "\n",
    "for i in D:\n",
    "    for k in K:\n",
    "        for w in W:\n",
    "            m.addConstr(L[(i,k,w)] >= l[(k,w)] - M * (1 - gp.quicksum(x[(i,j,k,w)] for j in C)))"
   ]
  },
  {
   "cell_type": "code",
   "execution_count": 32,
   "metadata": {},
   "outputs": [],
   "source": [
    "# Objective function\n",
    "\n",
    "m.setObjective(gp.quicksum(x[(i,j,k,w)] * d[i-1][j-1] for i in N for j in N for k in K for w in W), GRB.MINIMIZE)"
   ]
  },
  {
   "cell_type": "code",
   "execution_count": 33,
   "metadata": {},
   "outputs": [],
   "source": [
    " # + gp.quicksum(te[(k,w)] for k in K for w in W) + gp.quicksum(ts[(k,w)] for k in K for w in W) + gp.quicksum(L[(i,k,w)] for i in N for k in K for w in W)"
   ]
  },
  {
   "cell_type": "code",
   "execution_count": 34,
   "metadata": {},
   "outputs": [
    {
     "name": "stdout",
     "output_type": "stream",
     "text": [
      "Gurobi Optimizer version 10.0.1 build v10.0.1rc0 (win64)\n",
      "\n",
      "CPU model: AMD Ryzen 7 5800U with Radeon Graphics, instruction set [SSE2|AVX|AVX2]\n",
      "Thread count: 8 physical cores, 16 logical processors, using up to 16 threads\n",
      "\n",
      "Optimize a model with 2003 rows, 808 columns and 8584 nonzeros\n",
      "Model fingerprint: 0xa46d680b\n",
      "Variable types: 0 continuous, 808 integer (656 binary)\n",
      "Coefficient statistics:\n",
      "  Matrix range     [1e+00, 1e+04]\n",
      "  Objective range  [3e+00, 4e+01]\n",
      "  Bounds range     [1e+00, 1e+00]\n",
      "  RHS range        [1e+00, 1e+04]\n",
      "Presolve removed 1152 rows and 288 columns\n",
      "Presolve time: 0.09s\n",
      "Presolved: 851 rows, 520 columns, 4636 nonzeros\n",
      "Variable types: 0 continuous, 520 integer (456 binary)\n",
      "Found heuristic solution: objective 278.0000000\n",
      "\n",
      "Root relaxation: objective 4.641618e+01, 173 iterations, 0.01 seconds (0.00 work units)\n",
      "\n",
      "    Nodes    |    Current Node    |     Objective Bounds      |     Work\n",
      " Expl Unexpl |  Obj  Depth IntInf | Incumbent    BestBd   Gap | It/Node Time\n",
      "\n",
      "     0     0   46.41618    0   30  278.00000   46.41618  83.3%     -    0s\n",
      "H    0     0                     222.0000000   46.41618  79.1%     -    0s\n",
      "H    0     0                     184.0000000   47.56069  74.2%     -    0s\n",
      "     0     0   47.56069    0   31  184.00000   47.56069  74.2%     -    0s\n",
      "H    0     0                     106.0000000   51.45630  51.5%     -    0s\n",
      "     0     0   51.45630    0   63  106.00000   51.45630  51.5%     -    0s\n",
      "     0     0   52.84649    0   71  106.00000   52.84649  50.1%     -    0s\n",
      "     0     0   66.48000    0   78  106.00000   66.48000  37.3%     -    0s\n",
      "     0     0   66.48000    0   78  106.00000   66.48000  37.3%     -    0s\n",
      "     0     0   66.48000    0   37  106.00000   66.48000  37.3%     -    0s\n",
      "     0     0   66.87138    0   79  106.00000   66.87138  36.9%     -    0s\n",
      "     0     0   67.13538    0   74  106.00000   67.13538  36.7%     -    0s\n",
      "     0     0   67.17667    0   74  106.00000   67.17667  36.6%     -    0s\n",
      "     0     0   67.18822    0   75  106.00000   67.18822  36.6%     -    0s\n",
      "     0     0   74.42534    0   62  106.00000   74.42534  29.8%     -    0s\n",
      "     0     0   75.15674    0   67  106.00000   75.15674  29.1%     -    0s\n",
      "     0     0   75.16229    0   66  106.00000   75.16229  29.1%     -    0s\n",
      "     0     0   76.00000    0   34  106.00000   76.00000  28.3%     -    0s\n",
      "H    0     0                     102.0000000   76.88889  24.6%     -    0s\n",
      "     0     0   76.88889    0   37  102.00000   76.88889  24.6%     -    0s\n",
      "     0     0   77.50000    0   28  102.00000   77.50000  24.0%     -    0s\n",
      "     0     0   77.50000    0   42  102.00000   77.50000  24.0%     -    0s\n",
      "     0     0   77.50000    0   38  102.00000   77.50000  24.0%     -    0s\n",
      "     0     0   77.50000    0   58  102.00000   77.50000  24.0%     -    0s\n",
      "     0     0   77.50000    0   40  102.00000   77.50000  24.0%     -    1s\n",
      "     0     0   77.50000    0   54  102.00000   77.50000  24.0%     -    1s\n",
      "     0     0   77.50000    0   60  102.00000   77.50000  24.0%     -    1s\n",
      "     0     0   77.50000    0   24  102.00000   77.50000  24.0%     -    1s\n",
      "     0     0   77.50000    0   28  102.00000   77.50000  24.0%     -    1s\n",
      "H    0     0                      98.0000000   77.50000  20.9%     -    1s\n",
      "     0     0   77.77222    0   69   98.00000   77.77222  20.6%     -    1s\n",
      "     0     0   77.77222    0   38   98.00000   77.77222  20.6%     -    1s\n",
      "     0     0   77.77222    0   47   98.00000   77.77222  20.6%     -    1s\n",
      "     0     0   77.85714    0   62   98.00000   77.85714  20.6%     -    1s\n",
      "     0     0   79.42857    0   40   98.00000   79.42857  19.0%     -    1s\n",
      "H    0     0                      96.0000000   79.42857  17.3%     -    1s\n",
      "     0     0   80.26787    0   66   96.00000   80.26787  16.4%     -    1s\n",
      "     0     0   80.33559    0   70   96.00000   80.33559  16.3%     -    1s\n",
      "     0     0   81.57252    0   67   96.00000   81.57252  15.0%     -    1s\n",
      "     0     0   81.57252    0   75   96.00000   81.57252  15.0%     -    1s\n",
      "     0     0   81.88889    0   55   96.00000   81.88889  14.7%     -    1s\n",
      "     0     0   81.88889    0   66   96.00000   81.88889  14.7%     -    1s\n",
      "     0     0   81.90000    0   55   96.00000   81.90000  14.7%     -    1s\n",
      "     0     0   82.40000    0   52   96.00000   82.40000  14.2%     -    1s\n",
      "     0     0   82.80000    0   59   96.00000   82.80000  13.8%     -    1s\n",
      "     0     0   96.00000    0   56   96.00000   96.00000  0.00%     -    1s\n",
      "\n",
      "Cutting planes:\n",
      "  Gomory: 1\n",
      "  Cover: 2\n",
      "  Clique: 2\n",
      "  MIR: 11\n",
      "  StrongCG: 2\n",
      "  GUB cover: 2\n",
      "  RLT: 14\n",
      "\n",
      "Explored 1 nodes (1826 simplex iterations) in 1.41 seconds (0.36 work units)\n",
      "Thread count was 16 (of 16 available processors)\n",
      "\n",
      "Solution count 7: 96 98 102 ... 278\n",
      "\n",
      "Optimal solution found (tolerance 1.00e-04)\n",
      "Best objective 9.600000000000e+01, best bound 9.600000000000e+01, gap 0.0000%\n"
     ]
    }
   ],
   "source": [
    "m.optimize()"
   ]
  },
  {
   "cell_type": "code",
   "execution_count": 35,
   "metadata": {
    "execution": {
     "iopub.execute_input": "2023-08-02T10:45:43.454109Z",
     "iopub.status.busy": "2023-08-02T10:45:43.453190Z",
     "iopub.status.idle": "2023-08-02T10:45:43.559160Z",
     "shell.execute_reply": "2023-08-02T10:45:43.558045Z",
     "shell.execute_reply.started": "2023-08-02T10:45:43.454065Z"
    },
    "scrolled": true
   },
   "outputs": [
    {
     "name": "stdout",
     "output_type": "stream",
     "text": [
      "96.0\n"
     ]
    }
   ],
   "source": [
    "obj = m.getObjective()\n",
    "print(obj.getValue())"
   ]
  },
  {
   "cell_type": "code",
   "execution_count": 36,
   "metadata": {},
   "outputs": [
    {
     "name": "stdout",
     "output_type": "stream",
     "text": [
      "x[1,8,1,2]: 1.0\n",
      "x[2,6,1,1]: 1.0\n",
      "x[3,8,0,1]: 1.0\n",
      "x[4,1,1,2]: 1.0\n",
      "x[5,7,1,2]: 1.0\n",
      "x[6,8,1,1]: 1.0\n",
      "x[7,4,1,2]: 1.0\n",
      "x[8,2,1,1]: 1.0\n",
      "x[8,3,0,1]: 1.0\n",
      "x[8,5,1,2]: 1.0\n",
      "y[0,1]: 1.0\n",
      "y[1,1]: 1.0\n",
      "y[1,2]: 1.0\n",
      "Arrival time at customer[1,1,2]: 240.0\n",
      "Arrival time at customer[2,1,1]: 93.0\n",
      "Arrival time at customer[3,0,1]: 124.0\n",
      "Arrival time at customer[4,1,2]: 232.0\n",
      "Arrival time at customer[5,1,2]: 164.0\n",
      "Arrival time at customer[6,1,1]: 101.0\n",
      "Arrival time at customer[7,1,2]: 209.0\n",
      "Depot start time[0,1]: 5.0\n",
      "Depot start time[0,2]: 300.0\n",
      "Depot start time[1,1]: 5.0\n",
      "Depot start time[1,2]: 118.0\n",
      "Depot start time[2,2]: 300.0\n",
      "Depot start time[3,2]: 300.0\n",
      "Depot end time[0,1]: 300.0\n",
      "Depot end time[0,2]: 300.0\n",
      "Depot end time[1,1]: 113.0\n",
      "Depot end time[1,2]: 300.0\n",
      "Depot end time[2,1]: 287.0\n",
      "Depot end time[2,2]: 300.0\n",
      "Depot end time[3,1]: 287.0\n",
      "Depot end time[3,2]: 300.0\n",
      "Load at depot[0,1]: 9.0\n",
      "Load at depot[1,1]: 16.0\n",
      "Load at depot[1,2]: 25.0\n",
      "Load at customer[1,0,1]: 25.0\n",
      "Load at customer[1,0,2]: 25.0\n",
      "Load at customer[1,1,1]: 25.0\n",
      "Load at customer[1,1,2]: 25.0\n",
      "Load at customer[1,2,1]: 25.0\n",
      "Load at customer[1,2,2]: 25.0\n",
      "Load at customer[1,3,1]: 25.0\n",
      "Load at customer[1,3,2]: 25.0\n",
      "Load at customer[2,0,1]: 22.0\n",
      "Load at customer[2,0,2]: 22.0\n",
      "Load at customer[2,1,1]: 22.0\n",
      "Load at customer[2,1,2]: 22.0\n",
      "Load at customer[2,2,1]: 22.0\n",
      "Load at customer[2,2,2]: 22.0\n",
      "Load at customer[2,3,1]: 22.0\n",
      "Load at customer[2,3,2]: 22.0\n",
      "Load at customer[3,0,1]: 20.0\n",
      "Load at customer[3,0,2]: 20.0\n",
      "Load at customer[3,1,1]: 20.0\n",
      "Load at customer[3,1,2]: 20.0\n",
      "Load at customer[3,2,1]: 20.0\n",
      "Load at customer[3,2,2]: 20.0\n",
      "Load at customer[3,3,1]: 20.0\n",
      "Load at customer[3,3,2]: 20.0\n",
      "Load at customer[4,0,1]: 22.0\n",
      "Load at customer[4,0,2]: 22.0\n",
      "Load at customer[4,1,1]: 22.0\n",
      "Load at customer[4,1,2]: 22.0\n",
      "Load at customer[4,2,1]: 22.0\n",
      "Load at customer[4,2,2]: 22.0\n",
      "Load at customer[4,3,1]: 22.0\n",
      "Load at customer[4,3,2]: 22.0\n",
      "Load at customer[5,0,1]: 23.0\n",
      "Load at customer[5,0,2]: 23.0\n",
      "Load at customer[5,1,1]: 23.0\n",
      "Load at customer[5,1,2]: 23.0\n",
      "Load at customer[5,2,1]: 23.0\n",
      "Load at customer[5,2,2]: 23.0\n",
      "Load at customer[5,3,1]: 23.0\n",
      "Load at customer[5,3,2]: 23.0\n",
      "Load at customer[6,0,1]: 20.0\n",
      "Load at customer[6,0,2]: 20.0\n",
      "Load at customer[6,1,1]: 20.0\n",
      "Load at customer[6,1,2]: 20.0\n",
      "Load at customer[6,2,1]: 20.0\n",
      "Load at customer[6,2,2]: 20.0\n",
      "Load at customer[6,3,1]: 20.0\n",
      "Load at customer[6,3,2]: 20.0\n",
      "Load at customer[7,0,1]: 21.0\n",
      "Load at customer[7,0,2]: 21.0\n",
      "Load at customer[7,1,1]: 21.0\n",
      "Load at customer[7,1,2]: 21.0\n",
      "Load at customer[7,2,1]: 21.0\n",
      "Load at customer[7,2,2]: 21.0\n",
      "Load at customer[7,3,1]: 21.0\n",
      "Load at customer[7,3,2]: 21.0\n",
      "Load at customer[8,0,1]: 25.0\n",
      "Load at customer[8,0,2]: 25.0\n",
      "Load at customer[8,1,1]: 25.0\n",
      "Load at customer[8,1,2]: 25.0\n",
      "Load at customer[9,2,1]: 25.0\n",
      "Load at customer[9,2,2]: 25.0\n",
      "Load at customer[9,3,1]: 25.0\n",
      "Load at customer[9,3,2]: 25.0\n"
     ]
    }
   ],
   "source": [
    "# Access solution results\n",
    "\n",
    "for var in m.getVars():\n",
    "    if var.X > 0:  # Check if the variable's value is greater than 0\n",
    "        print(f\"{var.VarName}: {var.X}\")"
   ]
  },
  {
   "cell_type": "code",
   "execution_count": 37,
   "metadata": {},
   "outputs": [
    {
     "name": "stdout",
     "output_type": "stream",
     "text": [
      "Elapsed time: 2.47 seconds\n"
     ]
    }
   ],
   "source": [
    "# Your program logic goes here\n",
    "\n",
    "# Calculate elapsed time at a later point in your code\n",
    "elapsed_time = time.time() - start_time\n",
    "\n",
    "# Print the elapsed time in seconds\n",
    "print(f\"Elapsed time: {elapsed_time:.2f} seconds\")"
   ]
  },
  {
   "cell_type": "code",
   "execution_count": 38,
   "metadata": {},
   "outputs": [],
   "source": [
    "result_dict = {'V01': [8, 3, 8], 'V11': [8, 2, 6, 8], 'V12': [8, 5, 7, 4, 1, 8]}"
   ]
  },
  {
   "cell_type": "code",
   "execution_count": 39,
   "metadata": {},
   "outputs": [
    {
     "data": {
      "text/plain": [
       "96"
      ]
     },
     "execution_count": 39,
     "metadata": {},
     "output_type": "execute_result"
    }
   ],
   "source": [
    "def calc_obj(result_dict):\n",
    "    \n",
    "    tot = 0\n",
    "    \n",
    "    for i, j in result_dict.items():\n",
    "        m = 0\n",
    "        n = 1\n",
    "        while (n < len(j)):\n",
    "            tot += d[j[m] - 1][j[n] - 1]\n",
    "            m += 1\n",
    "            n += 1\n",
    "        \n",
    "    return tot\n",
    "\n",
    "calc_obj(result_dict)"
   ]
  },
  {
   "cell_type": "code",
   "execution_count": null,
   "metadata": {},
   "outputs": [],
   "source": []
  },
  {
   "cell_type": "code",
   "execution_count": null,
   "metadata": {},
   "outputs": [],
   "source": []
  }
 ],
 "metadata": {
  "kernelspec": {
   "display_name": "Python 3 (ipykernel)",
   "language": "python",
   "name": "python3"
  },
  "language_info": {
   "codemirror_mode": {
    "name": "ipython",
    "version": 3
   },
   "file_extension": ".py",
   "mimetype": "text/x-python",
   "name": "python",
   "nbconvert_exporter": "python",
   "pygments_lexer": "ipython3",
   "version": "3.10.9"
  }
 },
 "nbformat": 4,
 "nbformat_minor": 4
}
